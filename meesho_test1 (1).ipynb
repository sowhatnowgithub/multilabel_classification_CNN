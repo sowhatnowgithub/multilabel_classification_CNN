{
  "nbformat": 4,
  "nbformat_minor": 0,
  "metadata": {
    "colab": {
      "provenance": []
    },
    "kernelspec": {
      "name": "python3",
      "display_name": "Python 3"
    },
    "language_info": {
      "name": "python"
    }
  },
  "cells": [
    {
      "cell_type": "code",
      "execution_count": null,
      "metadata": {
        "id": "gpXRETmcAHdA"
      },
      "outputs": [],
      "source": [
        "!mkdir -p ~/.kaggle\n",
        "!cp kaggle.json ~/.kaggle"
      ]
    },
    {
      "cell_type": "code",
      "source": [
        "!kaggle competitions download -c visual-taxonomy"
      ],
      "metadata": {
        "id": "BQUDhz49AcaL"
      },
      "execution_count": null,
      "outputs": []
    },
    {
      "cell_type": "code",
      "source": [
        "# \"\"\"\n",
        "import zipfile\n",
        "with zipfile.ZipFile('visual-taxonomy.zip','r') as zip_ref:\n",
        "  zip_ref.extractall()\n",
        "  zip_ref.close()\n",
        "# \"\"\""
      ],
      "metadata": {
        "id": "NwVKcO7MAeqq"
      },
      "execution_count": null,
      "outputs": []
    },
    {
      "cell_type": "code",
      "source": [
        "import pandas as pd\n",
        "import gc"
      ],
      "metadata": {
        "id": "e4dLBTxvAeti"
      },
      "execution_count": null,
      "outputs": []
    },
    {
      "cell_type": "code",
      "source": [
        "def load_df_train(idx):\n",
        "  df = pd.read_csv('train.csv')\n",
        "  df_idx = df[df['Category']==categories[idx]]\n",
        "  del df\n",
        "  gc.collect()\n",
        "  return df_idx"
      ],
      "metadata": {
        "id": "2s-KJVPQyd-s"
      },
      "execution_count": null,
      "outputs": []
    },
    {
      "cell_type": "code",
      "source": [
        "categories = ['Men Tshirts', 'Sarees' ,'Kurtis' ,'Women Tshirts' ,'Women Tops & Tunics']\n",
        "print(categories)"
      ],
      "metadata": {
        "id": "6UF5mUXrBKMT"
      },
      "execution_count": null,
      "outputs": []
    },
    {
      "cell_type": "code",
      "source": [
        "df_idx = load_df_train(1)"
      ],
      "metadata": {
        "id": "EXruxEKlDCpW"
      },
      "execution_count": null,
      "outputs": []
    },
    {
      "cell_type": "code",
      "source": [
        "categories_consider = ['attr_2','attr_4','attr_5','attr_7','attr_9']"
      ],
      "metadata": {
        "id": "EEWLNNF4F84o"
      },
      "execution_count": null,
      "outputs": []
    },
    {
      "cell_type": "code",
      "source": [
        "df_attrs = []\n",
        "for i in range(len(categories_consider)):\n",
        "  df_attrs.append(df_idx[['id',categories_consider[i]]])\n",
        "# print(df_shirt_attr1.head())"
      ],
      "metadata": {
        "id": "_H_AGbCwD7pn"
      },
      "execution_count": null,
      "outputs": []
    },
    {
      "cell_type": "code",
      "source": [
        "# print(df_shirt_attr1.isnull().mean())\n",
        "filtered_df_idx = []\n",
        "for i,attr in enumerate(categories_consider):\n",
        "  df_attr = df_attrs[i]\n",
        "  filtered_df = df_attr[df_attr[attr].notnull()]\n",
        "  filtered_df_idx.append(filtered_df)"
      ],
      "metadata": {
        "id": "a1lLrNzDGJkd"
      },
      "execution_count": null,
      "outputs": []
    },
    {
      "cell_type": "code",
      "source": [
        "unique_attr_class = []\n",
        "unique_attr_class_len = []\n",
        "for i,attr in enumerate(categories_consider):\n",
        "  unique_attrs = filtered_df_idx[i][attr].unique().tolist()\n",
        "  unique_attr_class.append(unique_attrs)\n",
        "  unique_attr_class_len.append(len(unique_attrs))\n",
        "  print(f' {attr} unique attributes {unique_attr_class[i]} and lenght is {len(filtered_df_idx[i][attr].unique())}')"
      ],
      "metadata": {
        "id": "kxhUmy5UGxjW"
      },
      "execution_count": null,
      "outputs": []
    },
    {
      "cell_type": "code",
      "source": [
        "import numpy as np"
      ],
      "metadata": {
        "id": "EXXbZyP3K-TL"
      },
      "execution_count": null,
      "outputs": []
    },
    {
      "cell_type": "code",
      "source": [
        "\n",
        "from sklearn.preprocessing import OrdinalEncoder\n",
        "y_attrs = []\n",
        "for i,attr in enumerate(categories_consider):\n",
        "  encoder = OrdinalEncoder(categories=[unique_attr_class[i]])\n",
        "  y = filtered_df_idx[i]\n",
        "  y = encoder.fit_transform(y[[attr]])\n",
        "  y = np.array(y)\n",
        "  y_attrs.append(y)"
      ],
      "metadata": {
        "id": "8fCogwbJICWw"
      },
      "execution_count": null,
      "outputs": []
    },
    {
      "cell_type": "code",
      "source": [
        "import tensorflow as tf"
      ],
      "metadata": {
        "id": "0FfPvqYTLEeY"
      },
      "execution_count": null,
      "outputs": []
    },
    {
      "cell_type": "code",
      "source": [
        "def load_images(paths,n_images = 100, size=(128,128)):\n",
        "  images = []\n",
        "  for i,path in enumerate(paths):\n",
        "    if i == n_images:\n",
        "      break\n",
        "    image = tf.keras.preprocessing.image.load_img(path,target_size=size)\n",
        "    image = tf.keras.preprocessing.image.img_to_array(image)\n",
        "    image = image/255.0\n",
        "    images.append(image)\n",
        "  return np.array(images)"
      ],
      "metadata": {
        "id": "oA9UduwLIhzv"
      },
      "execution_count": null,
      "outputs": []
    },
    {
      "cell_type": "code",
      "source": [
        "import os"
      ],
      "metadata": {
        "id": "hm0i4ORhNCuY"
      },
      "execution_count": null,
      "outputs": []
    },
    {
      "cell_type": "code",
      "source": [
        "img_paths = os.listdir('train_images')\n",
        "img_paths = [os.path.join('train_images',path) for path in img_paths]\n",
        "img_paths.sort()"
      ],
      "metadata": {
        "id": "zWYRs7e7Mt14"
      },
      "execution_count": null,
      "outputs": []
    },
    {
      "cell_type": "code",
      "source": [
        "from matplotlib import pyplot as plt"
      ],
      "metadata": {
        "id": "0Rty6uudOPBh"
      },
      "execution_count": null,
      "outputs": []
    },
    {
      "cell_type": "code",
      "source": [
        "import sys\n",
        "def get_size(data):\n",
        "  size = sys.getsizeof(data)\n",
        "  print(f'The size in GB is {size/1024**3}')"
      ],
      "metadata": {
        "id": "y9Lz_CQTOXxh"
      },
      "execution_count": null,
      "outputs": []
    },
    {
      "cell_type": "code",
      "source": [
        "id_no_null = []\n",
        "for i in range(len(categories_consider)):\n",
        "  no_null = np.array(filtered_df_idx[i]['id'])\n",
        "  id_no_null.append(no_null)"
      ],
      "metadata": {
        "id": "w7Vztb_nOZOw"
      },
      "execution_count": null,
      "outputs": []
    },
    {
      "cell_type": "code",
      "source": [
        "filtered_img_paths = []\n",
        "for j in range(len(categories_consider)):\n",
        "  filtered_img_path = [img_paths[i] for i in id_no_null[j]]\n",
        "  filtered_img_paths.append(filtered_img_path)"
      ],
      "metadata": {
        "id": "w1cpeTP3P738"
      },
      "execution_count": null,
      "outputs": []
    },
    {
      "cell_type": "code",
      "source": [
        "from PIL import Image\n",
        "import numpy as np\n",
        "import torchvision.transforms as T"
      ],
      "metadata": {
        "id": "a_wCZzAvRef9"
      },
      "execution_count": null,
      "outputs": []
    },
    {
      "cell_type": "code",
      "source": [
        "def augment_image(np_image):\n",
        "    image = Image.fromarray((np_image * 255).astype(np.uint8))\n",
        "    original_size = image.size\n",
        "\n",
        "    transform = T.Compose([\n",
        "        T.RandomHorizontalFlip(p=0.5),\n",
        "        T.RandomVerticalFlip(p=0.5),\n",
        "        T.RandomRotation(degrees=10),\n",
        "        T.ColorJitter(brightness=0.1,\n",
        "                      contrast=0.1,\n",
        "                      saturation=0.05,\n",
        "                      hue=0.02),\n",
        "        T.CenterCrop(size=original_size)\n",
        "\n",
        "    ])\n",
        "    augmented_image = transform(image)\n",
        "    augmented_np_image = np.array(augmented_image)\n",
        "    return augmented_np_image\n",
        "def generate_aument_images(np_images):\n",
        "  augmented_images = []\n",
        "  for i in range(len(np_images)):\n",
        "    augmented_image = augment_image(np_images[i])\n",
        "    augmented_image = augmented_image/255.0\n",
        "    augmented_images.append(augmented_image)\n",
        "  return np.array(augmented_images)"
      ],
      "metadata": {
        "id": "R67qVtxOPUks"
      },
      "execution_count": null,
      "outputs": []
    },
    {
      "cell_type": "code",
      "source": [
        "# img = load_images(filtered_img_paths[0])\n",
        "# aug_img = generate_aument_images(img)"
      ],
      "metadata": {
        "id": "XYmu_cZUSpja"
      },
      "execution_count": null,
      "outputs": []
    },
    {
      "cell_type": "code",
      "source": [
        "from tensorflow.keras.models import Model\n",
        "from tensorflow.keras.layers import Conv2D, MaxPooling2D, Flatten, Dense, Dropout, BatchNormalization, Input\n",
        "from tensorflow.keras.optimizers import Adam"
      ],
      "metadata": {
        "id": "KRI2X1bkSqQE"
      },
      "execution_count": null,
      "outputs": []
    },
    {
      "cell_type": "code",
      "source": [
        "def define_model(n_classes,input_shape, each_class_attr):\n",
        "  input_layer = Input(shape=input_shape)\n",
        "\n",
        "  x = Conv2D(32, (3, 3), activation='relu')(input_layer)\n",
        "  x = MaxPooling2D((2, 2))(x)\n",
        "  x = BatchNormalization()(x)\n",
        "  x = Dropout(0.2)(x)\n",
        "\n",
        "  x = Conv2D(64, (3, 3), activation='relu')(x)\n",
        "  x = BatchNormalization()(x)\n",
        "  x = Dropout(0.2)(x)\n",
        "\n",
        "  x = Conv2D(128, (3, 3), activation='relu')(x)\n",
        "  x = BatchNormalization()(x)\n",
        "  x = Dropout(0.2)(x)\n",
        "\n",
        "  x = Flatten()(x)\n",
        "\n",
        "  x = Dense(128, activation='relu')(x)\n",
        "  x = Dropout(0.5)(x)\n",
        "  x = BatchNormalization()(x)\n",
        "\n",
        "\n",
        "  output_layers = []\n",
        "  loss_functions = {}\n",
        "  metrics = {}\n",
        "  for i in range(n_classes):\n",
        "    output_name = f'attr{i+1}_output'\n",
        "    y = Dense(each_class_attr[i], activation='softmax', name=output_name)(x)\n",
        "    loss_functions[output_name] = 'sparse_categorical_crossentropy'\n",
        "    metrics[output_name] = 'accuracy'\n",
        "    output_layers.append(y)\n",
        "  model = Model(inputs=input_layer, outputs=output_layers)\n",
        "  opt = Adam(0.0002)\n",
        "  model.compile(optimizer=opt, loss=loss_functions, metrics=metrics)\n",
        "  return model\n",
        "\n"
      ],
      "metadata": {
        "id": "QD4PWT_QR5yQ"
      },
      "execution_count": null,
      "outputs": []
    },
    {
      "cell_type": "markdown",
      "source": [],
      "metadata": {
        "id": "fiW2k3ApA4dB"
      }
    },
    {
      "cell_type": "code",
      "source": [
        "saree_attr7 = define_model(n_classes=1, input_shape=(128,128,3), each_class_attr=[4])"
      ],
      "metadata": {
        "id": "nlfiRi1qS7Ub"
      },
      "execution_count": null,
      "outputs": []
    },
    {
      "cell_type": "code",
      "source": [
        "saree_attr7.summary()"
      ],
      "metadata": {
        "id": "nmXvtb0bS7Wu"
      },
      "execution_count": null,
      "outputs": []
    },
    {
      "cell_type": "code",
      "source": [
        "def train_model(x_train, y_train,x_val,y_val, model, batch_size=64, epochs=10):\n",
        "  model.fit(x_train, y_train, validation_data=(x_val,y_val),batch_size=batch_size, epochs=epochs)"
      ],
      "metadata": {
        "id": "byIFMHgAxuah"
      },
      "execution_count": null,
      "outputs": []
    },
    {
      "cell_type": "code",
      "source": [
        "from sklearn.model_selection import train_test_split\n",
        "def del_and_load_images(idx,x_train,x_val,y_train,y_val):\n",
        "  del x_train, x_val, y_train, y_val,\n",
        "  gc.collect()\n",
        "  y = y_attrs[idx]\n",
        "  x = load_images(filtered_img_paths[idx], n_images=len(y), size=(128,128))\n",
        "  x_train, x_val, y_train, y_val = train_test_div(x,y)\n",
        "  del x,y\n",
        "  gc.collect()\n",
        "  return x_train, x_val, y_train, y_val"
      ],
      "metadata": {
        "id": "tKIsWeTZzjlw"
      },
      "execution_count": null,
      "outputs": []
    },
    {
      "cell_type": "code",
      "source": [
        "from sklearn.model_selection import train_test_split\n",
        "def train_test_div(x,y):\n",
        "  x_train, x_val, y_train, y_val = train_test_split(x, y, test_size=0.2, random_state=42)\n",
        "  return x_train, x_val, y_train, y_val"
      ],
      "metadata": {
        "id": "PjfDKacZ2FUI"
      },
      "execution_count": null,
      "outputs": []
    },
    {
      "cell_type": "code",
      "source": [],
      "metadata": {
        "id": "ASg1COaRvrEA"
      },
      "execution_count": null,
      "outputs": []
    },
    {
      "cell_type": "code",
      "source": [
        "x_train,x_val,y_train,y_val = del_and_load_images(3,0,0,0,0)"
      ],
      "metadata": {
        "id": "wAcPPrwO1u0q"
      },
      "execution_count": null,
      "outputs": []
    },
    {
      "cell_type": "code",
      "source": [
        "train_model(x_train,y_train,x_val,y_val,saree_attr7,epochs=10)\n"
      ],
      "metadata": {
        "id": "qB3sZo25vuLx"
      },
      "execution_count": null,
      "outputs": []
    },
    {
      "cell_type": "code",
      "source": [
        "del x_train,x_val,y_train,y_val, filtered_df, filtered_df_idx, df_idx, df_attrs, filtered_img_paths, img_paths, unique_attr_class, unique_attr_class_len, id_no_null, y_attrs\n",
        "gc.collect()"
      ],
      "metadata": {
        "colab": {
          "base_uri": "https://localhost:8080/"
        },
        "id": "Lh-_GR7_1yGX",
        "outputId": "5f65b886-e462-4c2a-eee9-6c2509437568"
      },
      "execution_count": null,
      "outputs": [
        {
          "output_type": "execute_result",
          "data": {
            "text/plain": [
              "1026"
            ]
          },
          "metadata": {},
          "execution_count": 48
        }
      ]
    },
    {
      "cell_type": "code",
      "source": [
        "aug_images = generate_aument_images(x_train[0:4500])"
      ],
      "metadata": {
        "id": "AMjaWkIK1ynj"
      },
      "execution_count": null,
      "outputs": []
    },
    {
      "cell_type": "code",
      "source": [
        "x_train1 = x_train[0:4500]"
      ],
      "metadata": {
        "id": "ghT6xfup3IJs"
      },
      "execution_count": null,
      "outputs": []
    },
    {
      "cell_type": "code",
      "source": [
        "del x_train"
      ],
      "metadata": {
        "id": "S93UYhiY6qsD"
      },
      "execution_count": null,
      "outputs": []
    },
    {
      "cell_type": "code",
      "source": [
        "x_train = np.concatenate((x_train1,aug_images),axis=0)"
      ],
      "metadata": {
        "id": "0KmlDlcI4NtN"
      },
      "execution_count": null,
      "outputs": []
    },
    {
      "cell_type": "code",
      "source": [
        "y_train1 = y_train[0:4500]"
      ],
      "metadata": {
        "id": "WjhKQ08p6BxS"
      },
      "execution_count": null,
      "outputs": []
    },
    {
      "cell_type": "code",
      "source": [
        "y_aug = y_train[0:4500]"
      ],
      "metadata": {
        "id": "FRkr5kLt6Jqz"
      },
      "execution_count": null,
      "outputs": []
    },
    {
      "cell_type": "code",
      "source": [
        "del y_train"
      ],
      "metadata": {
        "id": "7nhSBot76ttE"
      },
      "execution_count": null,
      "outputs": []
    },
    {
      "cell_type": "code",
      "source": [
        "y_train = np.concatenate((y_train1,y_aug), axis=0)"
      ],
      "metadata": {
        "id": "1tnO09n_6NaI"
      },
      "execution_count": null,
      "outputs": []
    },
    {
      "cell_type": "code",
      "source": [
        "del aug_images, y_aug, y_train1, x_train1"
      ],
      "metadata": {
        "id": "wnAYU8Ge6v7J"
      },
      "execution_count": null,
      "outputs": []
    },
    {
      "cell_type": "code",
      "source": [
        "gc.collect()"
      ],
      "metadata": {
        "colab": {
          "base_uri": "https://localhost:8080/"
        },
        "id": "mz9vHQA66Ziq",
        "outputId": "79662d8a-5843-409a-e16f-9278ac7a7861"
      },
      "execution_count": null,
      "outputs": [
        {
          "output_type": "execute_result",
          "data": {
            "text/plain": [
              "748"
            ]
          },
          "metadata": {},
          "execution_count": 57
        }
      ]
    },
    {
      "cell_type": "code",
      "source": [
        "train_model(x_train,y_train,x_val,y_val,saree_attr7,epochs=10)"
      ],
      "metadata": {
        "id": "G_SrgGS85y_8"
      },
      "execution_count": null,
      "outputs": []
    },
    {
      "cell_type": "code",
      "source": [],
      "metadata": {
        "id": "W9Tr_oii7mQS"
      },
      "execution_count": null,
      "outputs": []
    }
  ]
}